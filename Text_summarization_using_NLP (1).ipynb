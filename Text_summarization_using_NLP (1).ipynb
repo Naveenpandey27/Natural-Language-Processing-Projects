{
  "nbformat": 4,
  "nbformat_minor": 0,
  "metadata": {
    "colab": {
      "name": "Text-summarization using NLP",
      "provenance": []
    },
    "kernelspec": {
      "name": "python3",
      "display_name": "Python 3"
    }
  },
  "cells": [
    {
      "cell_type": "code",
      "metadata": {
        "id": "sMEAMRB8b9pP",
        "colab_type": "code",
        "colab": {}
      },
      "source": [
        "text = \"Machine learning is an application of artificial intelligence (AI) that provides systems the ability to automatically learn and improvefrom experience without being explicitly programmed. Machine learning focuses on the development of computer programs that can access data and use it learn for themselves.The process of learning begins with observations or data, such as examples, direct experience, or instruction, in order to look for patterns in data and make better decisions in the future based on the examples that we provide. The primary aim is to allow the computers learn automatically without human intervention or assistance and adjust actions accordingly.But, using the classic algorithms of machine learning, text is considered as a sequence of keywords; instead, an approach based on semantic analysis mimics the human ability to understand the meaning of a text.Supervised machine learning algorithms can apply what has been learned in the past to new data using labeled examples to predict future events. Starting from the analysis of a known training dataset, the learning algorithm produces an inferred function to make predictions about the output values. The system is able to provide targets for any new input after sufficient training. The learning algorithm can also compare its output with the correct, intended output and find errors in order to modify the model accordingly.In contrast, unsupervised machine learning algorithms are used when the information used to train is neither classified nor labeled. Unsupervised learning studies how systems can infer a function to describe a hidden structure from unlabeled data. The system doesn’t figure out the right output, but it explores the data and can draw inferences from datasets to describe hidden structures from unlabeled data.\""
      ],
      "execution_count": 34,
      "outputs": []
    },
    {
      "cell_type": "code",
      "metadata": {
        "id": "HBg6CpT7c3Gt",
        "colab_type": "code",
        "colab": {}
      },
      "source": [
        "import spacy\n",
        "from spacy.lang.en.stop_words import STOP_WORDS\n",
        "from string import punctuation"
      ],
      "execution_count": 35,
      "outputs": []
    },
    {
      "cell_type": "code",
      "metadata": {
        "id": "H3Ebi8gWdoWD",
        "colab_type": "code",
        "colab": {}
      },
      "source": [
        "stopwords = list(STOP_WORDS)"
      ],
      "execution_count": 36,
      "outputs": []
    },
    {
      "cell_type": "code",
      "metadata": {
        "id": "jQg738iNdqsT",
        "colab_type": "code",
        "colab": {}
      },
      "source": [
        "nlp = spacy.load('en_core_web_sm')"
      ],
      "execution_count": 37,
      "outputs": []
    },
    {
      "cell_type": "code",
      "metadata": {
        "id": "J1CU3jVxdtFO",
        "colab_type": "code",
        "colab": {}
      },
      "source": [
        "doc = nlp(text)"
      ],
      "execution_count": 38,
      "outputs": []
    },
    {
      "cell_type": "code",
      "metadata": {
        "id": "-MM_C57wd5sb",
        "colab_type": "code",
        "colab": {
          "base_uri": "https://localhost:8080/",
          "height": 1000
        },
        "outputId": "22184f70-e54c-40e6-967d-bce3c1e5e7fc"
      },
      "source": [
        "tokens = [token.text for token in doc]\n",
        "tokens"
      ],
      "execution_count": 39,
      "outputs": [
        {
          "output_type": "execute_result",
          "data": {
            "text/plain": [
              "['Machine',\n",
              " 'learning',\n",
              " 'is',\n",
              " 'an',\n",
              " 'application',\n",
              " 'of',\n",
              " 'artificial',\n",
              " 'intelligence',\n",
              " '(',\n",
              " 'AI',\n",
              " ')',\n",
              " 'that',\n",
              " 'provides',\n",
              " 'systems',\n",
              " 'the',\n",
              " 'ability',\n",
              " 'to',\n",
              " 'automatically',\n",
              " 'learn',\n",
              " 'and',\n",
              " 'improvefrom',\n",
              " 'experience',\n",
              " 'without',\n",
              " 'being',\n",
              " 'explicitly',\n",
              " 'programmed',\n",
              " '.',\n",
              " 'Machine',\n",
              " 'learning',\n",
              " 'focuses',\n",
              " 'on',\n",
              " 'the',\n",
              " 'development',\n",
              " 'of',\n",
              " 'computer',\n",
              " 'programs',\n",
              " 'that',\n",
              " 'can',\n",
              " 'access',\n",
              " 'data',\n",
              " 'and',\n",
              " 'use',\n",
              " 'it',\n",
              " 'learn',\n",
              " 'for',\n",
              " 'themselves',\n",
              " '.',\n",
              " 'The',\n",
              " 'process',\n",
              " 'of',\n",
              " 'learning',\n",
              " 'begins',\n",
              " 'with',\n",
              " 'observations',\n",
              " 'or',\n",
              " 'data',\n",
              " ',',\n",
              " 'such',\n",
              " 'as',\n",
              " 'examples',\n",
              " ',',\n",
              " 'direct',\n",
              " 'experience',\n",
              " ',',\n",
              " 'or',\n",
              " 'instruction',\n",
              " ',',\n",
              " 'in',\n",
              " 'order',\n",
              " 'to',\n",
              " 'look',\n",
              " 'for',\n",
              " 'patterns',\n",
              " 'in',\n",
              " 'data',\n",
              " 'and',\n",
              " 'make',\n",
              " 'better',\n",
              " 'decisions',\n",
              " 'in',\n",
              " 'the',\n",
              " 'future',\n",
              " 'based',\n",
              " 'on',\n",
              " 'the',\n",
              " 'examples',\n",
              " 'that',\n",
              " 'we',\n",
              " 'provide',\n",
              " '.',\n",
              " 'The',\n",
              " 'primary',\n",
              " 'aim',\n",
              " 'is',\n",
              " 'to',\n",
              " 'allow',\n",
              " 'the',\n",
              " 'computers',\n",
              " 'learn',\n",
              " 'automatically',\n",
              " 'without',\n",
              " 'human',\n",
              " 'intervention',\n",
              " 'or',\n",
              " 'assistance',\n",
              " 'and',\n",
              " 'adjust',\n",
              " 'actions',\n",
              " 'accordingly',\n",
              " '.',\n",
              " 'But',\n",
              " ',',\n",
              " 'using',\n",
              " 'the',\n",
              " 'classic',\n",
              " 'algorithms',\n",
              " 'of',\n",
              " 'machine',\n",
              " 'learning',\n",
              " ',',\n",
              " 'text',\n",
              " 'is',\n",
              " 'considered',\n",
              " 'as',\n",
              " 'a',\n",
              " 'sequence',\n",
              " 'of',\n",
              " 'keywords',\n",
              " ';',\n",
              " 'instead',\n",
              " ',',\n",
              " 'an',\n",
              " 'approach',\n",
              " 'based',\n",
              " 'on',\n",
              " 'semantic',\n",
              " 'analysis',\n",
              " 'mimics',\n",
              " 'the',\n",
              " 'human',\n",
              " 'ability',\n",
              " 'to',\n",
              " 'understand',\n",
              " 'the',\n",
              " 'meaning',\n",
              " 'of',\n",
              " 'a',\n",
              " 'text',\n",
              " '.',\n",
              " 'Supervised',\n",
              " 'machine',\n",
              " 'learning',\n",
              " 'algorithms',\n",
              " 'can',\n",
              " 'apply',\n",
              " 'what',\n",
              " 'has',\n",
              " 'been',\n",
              " 'learned',\n",
              " 'in',\n",
              " 'the',\n",
              " 'past',\n",
              " 'to',\n",
              " 'new',\n",
              " 'data',\n",
              " 'using',\n",
              " 'labeled',\n",
              " 'examples',\n",
              " 'to',\n",
              " 'predict',\n",
              " 'future',\n",
              " 'events',\n",
              " '.',\n",
              " 'Starting',\n",
              " 'from',\n",
              " 'the',\n",
              " 'analysis',\n",
              " 'of',\n",
              " 'a',\n",
              " 'known',\n",
              " 'training',\n",
              " 'dataset',\n",
              " ',',\n",
              " 'the',\n",
              " 'learning',\n",
              " 'algorithm',\n",
              " 'produces',\n",
              " 'an',\n",
              " 'inferred',\n",
              " 'function',\n",
              " 'to',\n",
              " 'make',\n",
              " 'predictions',\n",
              " 'about',\n",
              " 'the',\n",
              " 'output',\n",
              " 'values',\n",
              " '.',\n",
              " 'The',\n",
              " 'system',\n",
              " 'is',\n",
              " 'able',\n",
              " 'to',\n",
              " 'provide',\n",
              " 'targets',\n",
              " 'for',\n",
              " 'any',\n",
              " 'new',\n",
              " 'input',\n",
              " 'after',\n",
              " 'sufficient',\n",
              " 'training',\n",
              " '.',\n",
              " 'The',\n",
              " 'learning',\n",
              " 'algorithm',\n",
              " 'can',\n",
              " 'also',\n",
              " 'compare',\n",
              " 'its',\n",
              " 'output',\n",
              " 'with',\n",
              " 'the',\n",
              " 'correct',\n",
              " ',',\n",
              " 'intended',\n",
              " 'output',\n",
              " 'and',\n",
              " 'find',\n",
              " 'errors',\n",
              " 'in',\n",
              " 'order',\n",
              " 'to',\n",
              " 'modify',\n",
              " 'the',\n",
              " 'model',\n",
              " 'accordingly',\n",
              " '.',\n",
              " 'In',\n",
              " 'contrast',\n",
              " ',',\n",
              " 'unsupervised',\n",
              " 'machine',\n",
              " 'learning',\n",
              " 'algorithms',\n",
              " 'are',\n",
              " 'used',\n",
              " 'when',\n",
              " 'the',\n",
              " 'information',\n",
              " 'used',\n",
              " 'to',\n",
              " 'train',\n",
              " 'is',\n",
              " 'neither',\n",
              " 'classified',\n",
              " 'nor',\n",
              " 'labeled',\n",
              " '.',\n",
              " 'Unsupervised',\n",
              " 'learning',\n",
              " 'studies',\n",
              " 'how',\n",
              " 'systems',\n",
              " 'can',\n",
              " 'infer',\n",
              " 'a',\n",
              " 'function',\n",
              " 'to',\n",
              " 'describe',\n",
              " 'a',\n",
              " 'hidden',\n",
              " 'structure',\n",
              " 'from',\n",
              " 'unlabeled',\n",
              " 'data',\n",
              " '.',\n",
              " 'The',\n",
              " 'system',\n",
              " 'does',\n",
              " 'n’t',\n",
              " 'figure',\n",
              " 'out',\n",
              " 'the',\n",
              " 'right',\n",
              " 'output',\n",
              " ',',\n",
              " 'but',\n",
              " 'it',\n",
              " 'explores',\n",
              " 'the',\n",
              " 'data',\n",
              " 'and',\n",
              " 'can',\n",
              " 'draw',\n",
              " 'inferences',\n",
              " 'from',\n",
              " 'datasets',\n",
              " 'to',\n",
              " 'describe',\n",
              " 'hidden',\n",
              " 'structures',\n",
              " 'from',\n",
              " 'unlabeled',\n",
              " 'data',\n",
              " '.']"
            ]
          },
          "metadata": {
            "tags": []
          },
          "execution_count": 39
        }
      ]
    },
    {
      "cell_type": "code",
      "metadata": {
        "id": "DErYirONgTRs",
        "colab_type": "code",
        "colab": {
          "base_uri": "https://localhost:8080/",
          "height": 35
        },
        "outputId": "2ac5c3df-bff8-40a9-8e6c-97c580dae3e7"
      },
      "source": [
        "punctuation = punctuation + '\\n'\n",
        "punctuation"
      ],
      "execution_count": 40,
      "outputs": [
        {
          "output_type": "execute_result",
          "data": {
            "application/vnd.google.colaboratory.intrinsic+json": {
              "type": "string"
            },
            "text/plain": [
              "'!\"#$%&\\'()*+,-./:;<=>?@[\\\\]^_`{|}~\\n'"
            ]
          },
          "metadata": {
            "tags": []
          },
          "execution_count": 40
        }
      ]
    },
    {
      "cell_type": "code",
      "metadata": {
        "id": "Ns_MWGNDeP8B",
        "colab_type": "code",
        "colab": {}
      },
      "source": [
        "word_frequencies = {}\n",
        "for word in doc:\n",
        "  if word.text.lower() not in stopwords:\n",
        "    if word.text.lower() not in punctuation:\n",
        "      if word.text not in word_frequencies.keys():\n",
        "        word_frequencies[word.text] = 1\n",
        "      else:\n",
        "        word_frequencies[word.text] +=1 "
      ],
      "execution_count": 41,
      "outputs": []
    },
    {
      "cell_type": "code",
      "metadata": {
        "id": "hj5zTwxRf-eK",
        "colab_type": "code",
        "colab": {
          "base_uri": "https://localhost:8080/",
          "height": 55
        },
        "outputId": "356d805b-4cbb-49f5-8dc4-3e12a43e0f15"
      },
      "source": [
        "print(word_frequencies)"
      ],
      "execution_count": 42,
      "outputs": [
        {
          "output_type": "stream",
          "text": [
            "{'Machine': 2, 'learning': 9, 'application': 1, 'artificial': 1, 'intelligence': 1, 'AI': 1, 'provides': 1, 'systems': 2, 'ability': 2, 'automatically': 2, 'learn': 3, 'improvefrom': 1, 'experience': 2, 'explicitly': 1, 'programmed': 1, 'focuses': 1, 'development': 1, 'computer': 1, 'programs': 1, 'access': 1, 'data': 7, 'use': 1, 'process': 1, 'begins': 1, 'observations': 1, 'examples': 3, 'direct': 1, 'instruction': 1, 'order': 2, 'look': 1, 'patterns': 1, 'better': 1, 'decisions': 1, 'future': 2, 'based': 2, 'provide': 2, 'primary': 1, 'aim': 1, 'allow': 1, 'computers': 1, 'human': 2, 'intervention': 1, 'assistance': 1, 'adjust': 1, 'actions': 1, 'accordingly': 2, 'classic': 1, 'algorithms': 3, 'machine': 3, 'text': 2, 'considered': 1, 'sequence': 1, 'keywords': 1, 'instead': 1, 'approach': 1, 'semantic': 1, 'analysis': 2, 'mimics': 1, 'understand': 1, 'meaning': 1, 'Supervised': 1, 'apply': 1, 'learned': 1, 'past': 1, 'new': 2, 'labeled': 2, 'predict': 1, 'events': 1, 'Starting': 1, 'known': 1, 'training': 2, 'dataset': 1, 'algorithm': 2, 'produces': 1, 'inferred': 1, 'function': 2, 'predictions': 1, 'output': 4, 'values': 1, 'system': 2, 'able': 1, 'targets': 1, 'input': 1, 'sufficient': 1, 'compare': 1, 'correct': 1, 'intended': 1, 'find': 1, 'errors': 1, 'modify': 1, 'model': 1, 'contrast': 1, 'unsupervised': 1, 'information': 1, 'train': 1, 'classified': 1, 'Unsupervised': 1, 'studies': 1, 'infer': 1, 'describe': 2, 'hidden': 2, 'structure': 1, 'unlabeled': 2, 'figure': 1, 'right': 1, 'explores': 1, 'draw': 1, 'inferences': 1, 'datasets': 1, 'structures': 1}\n"
          ],
          "name": "stdout"
        }
      ]
    },
    {
      "cell_type": "code",
      "metadata": {
        "id": "4crfyJOohuJe",
        "colab_type": "code",
        "colab": {
          "base_uri": "https://localhost:8080/",
          "height": 35
        },
        "outputId": "2daf7e8d-f37b-454a-acc5-a3a362830373"
      },
      "source": [
        "min_frequency = min(word_frequencies.values())\n",
        "min_frequency"
      ],
      "execution_count": 43,
      "outputs": [
        {
          "output_type": "execute_result",
          "data": {
            "text/plain": [
              "1"
            ]
          },
          "metadata": {
            "tags": []
          },
          "execution_count": 43
        }
      ]
    },
    {
      "cell_type": "code",
      "metadata": {
        "id": "p9njKr3siB71",
        "colab_type": "code",
        "colab": {
          "base_uri": "https://localhost:8080/",
          "height": 35
        },
        "outputId": "208a94d8-ebf2-4597-c058-d5f6c839c4dc"
      },
      "source": [
        "max_frequency = max(word_frequencies.values())\n",
        "max_frequency"
      ],
      "execution_count": 44,
      "outputs": [
        {
          "output_type": "execute_result",
          "data": {
            "text/plain": [
              "9"
            ]
          },
          "metadata": {
            "tags": []
          },
          "execution_count": 44
        }
      ]
    },
    {
      "cell_type": "code",
      "metadata": {
        "id": "R_0yLWpJiKN9",
        "colab_type": "code",
        "colab": {}
      },
      "source": [
        "for word in word_frequencies.keys():\n",
        "  word_frequencies[word] = word_frequencies[word]/max_frequency"
      ],
      "execution_count": 45,
      "outputs": []
    },
    {
      "cell_type": "code",
      "metadata": {
        "id": "Td0SuGQZjt0R",
        "colab_type": "code",
        "colab": {
          "base_uri": "https://localhost:8080/",
          "height": 55
        },
        "outputId": "a0a133f3-e65c-41ba-ddd0-0356887e0654"
      },
      "source": [
        "sentence_token = [sent for sent in doc.sents]\n",
        "print(sentence_token)"
      ],
      "execution_count": 46,
      "outputs": [
        {
          "output_type": "stream",
          "text": [
            "[Machine learning is an application of artificial intelligence (AI) that provides systems the ability to automatically learn and improvefrom experience without being explicitly programmed., Machine learning focuses on the development of computer programs that can access data and use it learn for themselves., The process of learning begins with observations or data, such as examples, direct experience, or instruction, in order to look for patterns in data and make better decisions in the future based on the examples that we provide., The primary aim is to allow the computers learn automatically without human intervention or assistance and adjust actions accordingly., But, using the classic algorithms of machine learning, text is considered as a sequence of keywords; instead, an approach based on semantic analysis mimics the human ability to understand the meaning of a text., Supervised machine learning algorithms can apply what has been learned in the past to new data using labeled examples to predict future events., Starting from the analysis of a known training dataset, the learning algorithm produces an inferred function to make predictions about the output values., The system is able to provide targets for any new input after sufficient training., The learning algorithm can also compare its output with the correct, intended output and find errors in order to modify the model accordingly., In contrast, unsupervised machine learning algorithms are used when the information used to train is neither classified nor labeled., Unsupervised learning studies how systems can infer a function to describe a hidden structure from unlabeled data., The system doesn’t figure out the right output, but it explores the data and can draw inferences from datasets to describe hidden structures from unlabeled data.]\n"
          ],
          "name": "stdout"
        }
      ]
    },
    {
      "cell_type": "code",
      "metadata": {
        "id": "tZwuDwJukYt4",
        "colab_type": "code",
        "colab": {}
      },
      "source": [
        "sentence_score = {}\n",
        "for sent in sentence_token:\n",
        "  for word in sent:\n",
        "    if word.text.lower() in word_frequencies.keys():\n",
        "      if sent not in sentence_score.keys():\n",
        "        sentence_score[sent] = word_frequencies[word.text.lower()]\n",
        "      else:\n",
        "        sentence_score[sent] += word_frequencies[word.text.lower()]\n"
      ],
      "execution_count": 47,
      "outputs": []
    },
    {
      "cell_type": "code",
      "metadata": {
        "id": "WoZdov41nRem",
        "colab_type": "code",
        "colab": {
          "base_uri": "https://localhost:8080/",
          "height": 255
        },
        "outputId": "e84a57bf-88f6-49a0-886c-723cfe4a8c7b"
      },
      "source": [
        "sentence_score"
      ],
      "execution_count": 48,
      "outputs": [
        {
          "output_type": "execute_result",
          "data": {
            "text/plain": [
              "{Machine learning is an application of artificial intelligence (AI) that provides systems the ability to automatically learn and improvefrom experience without being explicitly programmed.: 3.333333333333334,\n",
              " Machine learning focuses on the development of computer programs that can access data and use it learn for themselves.: 3.1111111111111116,\n",
              " The process of learning begins with observations or data, such as examples, direct experience, or instruction, in order to look for patterns in data and make better decisions in the future based on the examples that we provide.: 5.333333333333333,\n",
              " The primary aim is to allow the computers learn automatically without human intervention or assistance and adjust actions accordingly.: 1.8888888888888888,\n",
              " But, using the classic algorithms of machine learning, text is considered as a sequence of keywords; instead, an approach based on semantic analysis mimics the human ability to understand the meaning of a text.: 4.111111111111112,\n",
              " Supervised machine learning algorithms can apply what has been learned in the past to new data using labeled examples to predict future events.: 4.0,\n",
              " Starting from the analysis of a known training dataset, the learning algorithm produces an inferred function to make predictions about the output values.: 3.0000000000000004,\n",
              " The system is able to provide targets for any new input after sufficient training.: 1.3333333333333335,\n",
              " The learning algorithm can also compare its output with the correct, intended output and find errors in order to modify the model accordingly.: 3.333333333333334,\n",
              " In contrast, unsupervised machine learning algorithms are used when the information used to train is neither classified nor labeled.: 2.4444444444444446,\n",
              " Unsupervised learning studies how systems can infer a function to describe a hidden structure from unlabeled data.: 3.333333333333334,\n",
              " The system doesn’t figure out the right output, but it explores the data and can draw inferences from datasets to describe hidden structures from unlabeled data.: 3.666666666666667}"
            ]
          },
          "metadata": {
            "tags": []
          },
          "execution_count": 48
        }
      ]
    },
    {
      "cell_type": "code",
      "metadata": {
        "id": "W8ulKlk2oi9t",
        "colab_type": "code",
        "colab": {}
      },
      "source": [
        "from heapq import nlargest"
      ],
      "execution_count": 49,
      "outputs": []
    },
    {
      "cell_type": "code",
      "metadata": {
        "id": "8Omx5RYQpMy1",
        "colab_type": "code",
        "colab": {
          "base_uri": "https://localhost:8080/",
          "height": 35
        },
        "outputId": "91fba35e-09a4-46ca-bfe6-090c908e0365"
      },
      "source": [
        "select_length = int(len(sentence_token)*0.3)\n",
        "select_length"
      ],
      "execution_count": 51,
      "outputs": [
        {
          "output_type": "execute_result",
          "data": {
            "text/plain": [
              "3"
            ]
          },
          "metadata": {
            "tags": []
          },
          "execution_count": 51
        }
      ]
    },
    {
      "cell_type": "code",
      "metadata": {
        "id": "F95-4me-pZkN",
        "colab_type": "code",
        "colab": {}
      },
      "source": [
        "summary = nlargest(select_length, sentence_score, key= sentence_score.get)"
      ],
      "execution_count": 52,
      "outputs": []
    },
    {
      "cell_type": "code",
      "metadata": {
        "id": "I8bsGkGFrPYv",
        "colab_type": "code",
        "colab": {
          "base_uri": "https://localhost:8080/",
          "height": 92
        },
        "outputId": "c89a9040-8910-4a59-ad9f-eb4dab3a0e4e"
      },
      "source": [
        "summary"
      ],
      "execution_count": 53,
      "outputs": [
        {
          "output_type": "execute_result",
          "data": {
            "text/plain": [
              "[The process of learning begins with observations or data, such as examples, direct experience, or instruction, in order to look for patterns in data and make better decisions in the future based on the examples that we provide.,\n",
              " But, using the classic algorithms of machine learning, text is considered as a sequence of keywords; instead, an approach based on semantic analysis mimics the human ability to understand the meaning of a text.,\n",
              " Supervised machine learning algorithms can apply what has been learned in the past to new data using labeled examples to predict future events.]"
            ]
          },
          "metadata": {
            "tags": []
          },
          "execution_count": 53
        }
      ]
    },
    {
      "cell_type": "code",
      "metadata": {
        "id": "P9Nytb1SrR0h",
        "colab_type": "code",
        "colab": {}
      },
      "source": [
        "final_summary = [word.text for word in summary]"
      ],
      "execution_count": 54,
      "outputs": []
    },
    {
      "cell_type": "code",
      "metadata": {
        "id": "gMhFFEhosvw1",
        "colab_type": "code",
        "colab": {}
      },
      "source": [
        "summmary = ' '.join(final_summary)"
      ],
      "execution_count": 55,
      "outputs": []
    },
    {
      "cell_type": "code",
      "metadata": {
        "id": "LgLvU3gis7Qy",
        "colab_type": "code",
        "colab": {
          "base_uri": "https://localhost:8080/",
          "height": 55
        },
        "outputId": "3e315c5f-8864-4c9d-a6af-48a4ff120d56"
      },
      "source": [
        "print(summmary)"
      ],
      "execution_count": 61,
      "outputs": [
        {
          "output_type": "stream",
          "text": [
            "The process of learning begins with observations or data, such as examples, direct experience, or instruction, in order to look for patterns in data and make better decisions in the future based on the examples that we provide. But, using the classic algorithms of machine learning, text is considered as a sequence of keywords; instead, an approach based on semantic analysis mimics the human ability to understand the meaning of a text. Supervised machine learning algorithms can apply what has been learned in the past to new data using labeled examples to predict future events.\n"
          ],
          "name": "stdout"
        }
      ]
    },
    {
      "cell_type": "code",
      "metadata": {
        "id": "7Zu3fjDMs8bM",
        "colab_type": "code",
        "colab": {
          "base_uri": "https://localhost:8080/",
          "height": 55
        },
        "outputId": "802d507f-e4d3-4b8c-922f-8b7581fb4e4f"
      },
      "source": [
        "print(text)"
      ],
      "execution_count": 57,
      "outputs": [
        {
          "output_type": "stream",
          "text": [
            "Machine learning is an application of artificial intelligence (AI) that provides systems the ability to automatically learn and improvefrom experience without being explicitly programmed. Machine learning focuses on the development of computer programs that can access data and use it learn for themselves.The process of learning begins with observations or data, such as examples, direct experience, or instruction, in order to look for patterns in data and make better decisions in the future based on the examples that we provide. The primary aim is to allow the computers learn automatically without human intervention or assistance and adjust actions accordingly.But, using the classic algorithms of machine learning, text is considered as a sequence of keywords; instead, an approach based on semantic analysis mimics the human ability to understand the meaning of a text.Supervised machine learning algorithms can apply what has been learned in the past to new data using labeled examples to predict future events. Starting from the analysis of a known training dataset, the learning algorithm produces an inferred function to make predictions about the output values. The system is able to provide targets for any new input after sufficient training. The learning algorithm can also compare its output with the correct, intended output and find errors in order to modify the model accordingly.In contrast, unsupervised machine learning algorithms are used when the information used to train is neither classified nor labeled. Unsupervised learning studies how systems can infer a function to describe a hidden structure from unlabeled data. The system doesn’t figure out the right output, but it explores the data and can draw inferences from datasets to describe hidden structures from unlabeled data.\n"
          ],
          "name": "stdout"
        }
      ]
    },
    {
      "cell_type": "code",
      "metadata": {
        "id": "CLvCrH3rtcC4",
        "colab_type": "code",
        "colab": {
          "base_uri": "https://localhost:8080/",
          "height": 35
        },
        "outputId": "1ee4d611-4784-4143-cb09-78cd590d4386"
      },
      "source": [
        "len(text)"
      ],
      "execution_count": 62,
      "outputs": [
        {
          "output_type": "execute_result",
          "data": {
            "text/plain": [
              "1810"
            ]
          },
          "metadata": {
            "tags": []
          },
          "execution_count": 62
        }
      ]
    },
    {
      "cell_type": "code",
      "metadata": {
        "id": "yg-E9tp0te5c",
        "colab_type": "code",
        "colab": {
          "base_uri": "https://localhost:8080/",
          "height": 35
        },
        "outputId": "845f2829-68f6-42ca-f657-51abca533756"
      },
      "source": [
        "len(summary)"
      ],
      "execution_count": 63,
      "outputs": [
        {
          "output_type": "execute_result",
          "data": {
            "text/plain": [
              "3"
            ]
          },
          "metadata": {
            "tags": []
          },
          "execution_count": 63
        }
      ]
    },
    {
      "cell_type": "code",
      "metadata": {
        "id": "4CO05ehVtqXy",
        "colab_type": "code",
        "colab": {}
      },
      "source": [
        ""
      ],
      "execution_count": null,
      "outputs": []
    }
  ]
}